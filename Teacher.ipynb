{
  "nbformat": 4,
  "nbformat_minor": 0,
  "metadata": {
    "colab": {
      "provenance": [],
      "gpuType": "T4",
      "include_colab_link": true
    },
    "kernelspec": {
      "name": "python3",
      "display_name": "Python 3"
    },
    "language_info": {
      "name": "python"
    },
    "accelerator": "GPU"
  },
  "cells": [
    {
      "cell_type": "markdown",
      "metadata": {
        "id": "view-in-github",
        "colab_type": "text"
      },
      "source": [
        "<a href=\"https://colab.research.google.com/github/moneebullah25/TeacherAssistant/blob/main/Teacher.ipynb\" target=\"_parent\"><img src=\"https://colab.research.google.com/assets/colab-badge.svg\" alt=\"Open In Colab\"/></a>"
      ]
    },
    {
      "cell_type": "code",
      "source": [
        "from google.colab import drive\n",
        "drive.mount('/content/drive')"
      ],
      "metadata": {
        "colab": {
          "base_uri": "https://localhost:8080/"
        },
        "id": "8qBApcia-YbA",
        "outputId": "40cad77a-07e7-4a14-f25c-b2743072cf8f"
      },
      "execution_count": 1,
      "outputs": [
        {
          "output_type": "stream",
          "name": "stdout",
          "text": [
            "Drive already mounted at /content/drive; to attempt to forcibly remount, call drive.mount(\"/content/drive\", force_remount=True).\n"
          ]
        }
      ]
    },
    {
      "cell_type": "markdown",
      "source": [
        "# CONV_CHAT_BOT Setup"
      ],
      "metadata": {
        "id": "GWQ6VkhJ8Twd"
      }
    },
    {
      "cell_type": "code",
      "source": [
        "%%capture\n",
        "!pip install langchain\n",
        "!pip install pypdf\n",
        "!pip install sentence_transformers\n",
        "!pip install chromadb\n",
        "!pip install accelerate\n",
        "!pip install --upgrade accelerate\n",
        "!pip install bitsandbytes"
      ],
      "metadata": {
        "id": "6MGOy-RV8Z59"
      },
      "execution_count": 3,
      "outputs": []
    },
    {
      "cell_type": "code",
      "source": [
        "import os\n",
        "from langchain.document_loaders import PyPDFLoader\n",
        "\n",
        "path = \"/content/drive/MyDrive/Books\"\n",
        "documents = []\n",
        "for file in os.listdir(path):\n",
        "    if file.endswith('.pdf'):\n",
        "        pdf_path = path+'/' + file\n",
        "        print(pdf_path)\n",
        "        loader = PyPDFLoader(pdf_path)\n",
        "        documents.extend(loader.load())"
      ],
      "metadata": {
        "colab": {
          "base_uri": "https://localhost:8080/"
        },
        "id": "BlfTP3oMqklS",
        "outputId": "c39b8803-b53e-4e8f-df59-7f0b6c684e2e"
      },
      "execution_count": 2,
      "outputs": [
        {
          "output_type": "stream",
          "name": "stdout",
          "text": [
            "/content/drive/MyDrive/Books/Basic_Marketing_2021.pdf\n",
            "/content/drive/MyDrive/Books/Marketing_Book.pdf\n"
          ]
        },
        {
          "output_type": "stream",
          "name": "stderr",
          "text": [
            "/usr/local/lib/python3.10/dist-packages/pypdf/_cmap.py:192: PdfReadWarning: Advanced encoding [] not implemented yet\n",
            "  warnings.warn(\n"
          ]
        }
      ]
    },
    {
      "cell_type": "code",
      "source": [
        "from langchain.docstore.document import Document\n",
        "from langchain.vectorstores import Chroma\n",
        "import os\n",
        "from langchain.document_loaders import PyPDFLoader\n",
        "from langchain.text_splitter import CharacterTextSplitter\n",
        "from langchain.vectorstores import Chroma\n",
        "from langchain.embeddings import HuggingFaceEmbeddings\n",
        "\n",
        "# Load multiple documents\n",
        "# pdf_files = [\"/content/drive/MyDrive/Books/Basic_Marketing_2021.pdf\", \"/content/drive/MyDrive/Books/Marketing_Book.pdf\"]\n",
        "\n",
        "# Create an empty list to store documents\n",
        "all_documents = []\n",
        "all_documents.extend(documents)\n",
        "# Load documents using PyPDFLoader\n",
        "# for pdf_file in pdf_files:\n",
        "#     loader = PyPDFLoader(pdf_file)\n",
        "#     documents = loader.load()\n",
        "#     all_documents.extend(documents)\n",
        "\n",
        "# Split the documents\n",
        "text_splitter = CharacterTextSplitter(chunk_size=400, chunk_overlap=40)\n",
        "all_documents = text_splitter.split_documents(all_documents)\n",
        "\n",
        "# Initialize HuggingFaceEmbeddings\n",
        "hf_embed = HuggingFaceEmbeddings(model_name=\"sentence-transformers/all-mpnet-base-v2\")\n",
        "\n",
        "# Create Chroma vector store from multiple documents\n",
        "Vector_db = Chroma.from_documents(collection_name=\"document_docs\", documents=all_documents, embedding=hf_embed, persist_directory=\"/content/drive/MyDrive/Conv_bot/Data/Docs/Persist_dir\")\n",
        "\n",
        "# Perform a similarity search (if needed)\n",
        "# Vector_db.similarity_search(\"dummy\")  # Tickle it to persist metadata (?)\n",
        "\n",
        "# Persist the vector store\n",
        "Vector_db.persist()\n"
      ],
      "metadata": {
        "id": "REeyGmJQ8hti"
      },
      "execution_count": 3,
      "outputs": []
    },
    {
      "cell_type": "markdown",
      "source": [
        "#1/ Download our 2 embeddings model from hugging face\n",
        "(same as data preparation)"
      ],
      "metadata": {
        "id": "8VcFWSbx8kNu"
      }
    },
    {
      "cell_type": "code",
      "source": [
        "def get_available_gpus():\n",
        "    \"\"\"Get a list of available gpu devices (formatted as strings).\"\"\"\n",
        "    from tensorflow.python.client import device_lib\n",
        "    local_device_protos = device_lib.list_local_devices()\n",
        "    print(local_device_protos)\n",
        "    return [x.name for x in local_device_protos if x.device_type == 'GPU']"
      ],
      "metadata": {
        "id": "KLVroNsA8kzx"
      },
      "execution_count": 4,
      "outputs": []
    },
    {
      "cell_type": "code",
      "source": [
        "# Start here to load a previously-saved DB\n",
        "from langchain.embeddings import HuggingFaceEmbeddings\n",
        "from langchain.vectorstores import Chroma\n",
        "\n",
        "if len(get_available_gpus()) == 0:\n",
        "  Exception(\"Running dolly without GPU will be slow. We recommend you switch to a Single Node cluster with at least 1 GPU to properly run this demo.\")\n",
        "\n",
        "# gardening_vector_db_path = \"/dbfs\"+demo_path+\"/vector_db\"\n",
        "vector_db_path = \"/content/drive/MyDrive/Conv_bot/Data/Docs/db_path\"\n",
        "\n",
        "hf_embed = HuggingFaceEmbeddings(model_name=\"sentence-transformers/all-mpnet-base-v2\")\n",
        "db = Chroma(collection_name=\"document_docs\", embedding_function=hf_embed, persist_directory=vector_db_path)"
      ],
      "metadata": {
        "id": "T1NxJ9te8lax",
        "colab": {
          "base_uri": "https://localhost:8080/"
        },
        "outputId": "0b69caf8-149a-4634-c2ae-78ce6061fbc7"
      },
      "execution_count": 5,
      "outputs": [
        {
          "output_type": "stream",
          "name": "stdout",
          "text": [
            "[name: \"/device:CPU:0\"\n",
            "device_type: \"CPU\"\n",
            "memory_limit: 268435456\n",
            "locality {\n",
            "}\n",
            "incarnation: 15715159457187795362\n",
            "xla_global_id: -1\n",
            ", name: \"/device:GPU:0\"\n",
            "device_type: \"GPU\"\n",
            "memory_limit: 11528896512\n",
            "locality {\n",
            "  bus_id: 1\n",
            "  links {\n",
            "  }\n",
            "}\n",
            "incarnation: 5433651596664286137\n",
            "physical_device_desc: \"device: 0, name: Tesla T4, pci bus id: 0000:00:04.0, compute capability: 7.5\"\n",
            "xla_global_id: 416903419\n",
            "]\n"
          ]
        }
      ]
    },
    {
      "cell_type": "code",
      "source": [
        "def get_similar_docs(question, similar_doc_count):\n",
        "    similar_docs = Vector_db.similarity_search(question, similar_doc_count)\n",
        "\n",
        "    unique_docs = []\n",
        "    seen_doc_contents = set()\n",
        "\n",
        "    for doc in similar_docs:\n",
        "        doc_content = doc.page_content  # Assuming 'page_content' is the key for the document content\n",
        "        if doc_content not in seen_doc_contents:\n",
        "            unique_docs.append(doc)\n",
        "            seen_doc_contents.add(doc_content)\n",
        "\n",
        "    return unique_docs\n",
        "\n",
        "\n",
        "# Let's test it with blackberries:\n",
        "for doc in get_similar_docs(\"What is GPU?\", 3):\n",
        "    print(doc)"
      ],
      "metadata": {
        "colab": {
          "base_uri": "https://localhost:8080/"
        },
        "id": "4_tqbrMG8qlT",
        "outputId": "9a4d8155-b239-4aac-c9dd-c4150851a654"
      },
      "execution_count": 6,
      "outputs": [
        {
          "output_type": "stream",
          "name": "stdout",
          "text": [
            "page_content=\"packed. It got very high ratings as 5/5 at Think2Buy and considered a\\ndesign marvel . Asus Project Precog (Future Plan) Asus is after dual-screen\\nthat won't have a keyboard. If this becomes successful then perhaps in not\\nso distant future we all shall be using keyboard-less laptops. It is an Al\\npowered laptop that can be used either with its own one screen convertible\\nto virtual keyboard or alternately with a bluetooth connected keyboard if\\nboth screens are needed. 218\" metadata={'page': 282, 'source': '/content/drive/MyDrive/Books/Basic_Marketing_2021.pdf'}\n"
          ]
        }
      ]
    },
    {
      "cell_type": "markdown",
      "source": [
        "# 3/ Prompt engineering with langchain\n",
        "Now we can compose with a language model and prompting strategy to make a langchain chain that answers questions."
      ],
      "metadata": {
        "id": "M8y1m6_V8tF-"
      }
    },
    {
      "cell_type": "code",
      "source": [
        "template = \"\"\"Below is an instruction that describes a task. Write a response that appropriately completes the request.\n",
        "\n",
        "  Instruction:\n",
        "  You are a marketing teacher at university. Your job is to provide answers to student questions.\n",
        "  Use only information in the following paragraphs to answer the question at the end.\n",
        "  Explain the answer with reference to these paragraphs.\n",
        "  If you don't have the information in below paragraphs then give response \"I will get back to you on this\".\n",
        "\n",
        "  {context}\n",
        "\n",
        "  Question: {question}\n",
        "\n",
        "  Response:\n",
        "  \"\"\""
      ],
      "metadata": {
        "id": "9m0RRsqs6pSQ"
      },
      "execution_count": 7,
      "outputs": []
    },
    {
      "cell_type": "code",
      "source": [
        "from transformers import AutoTokenizer, AutoModelForCausalLM, pipeline\n",
        "import torch\n",
        "from langchain import PromptTemplate\n",
        "from langchain.llms import HuggingFacePipeline\n",
        "from langchain.chains.question_answering import load_qa_chain\n",
        "\n",
        "def build_qa_chain():\n",
        "  torch.cuda.empty_cache()\n",
        "  model_name = \"databricks/dolly-v2-3b\" # can use dolly-v2-3b or dolly-v2-7b for smaller model and faster inferences.\n",
        "\n",
        "  # Increase max_new_tokens for a longer response\n",
        "  # Other settings might give better results! Play around\n",
        "  instruct_pipeline = pipeline(model=model_name, torch_dtype=torch.float16, trust_remote_code=True, device_map=\"auto\", return_full_text=True, max_new_tokens=512, top_p=0.95, top_k=50,model_kwargs={'load_in_8bit': True})\n",
        "  # Note: if you use dolly 12B or smaller model but a GPU with less than 24GB RAM, use 8bit. This requires %pip install bitsandbytes\n",
        "  # instruct_pipeline = pipeline(model=model_name, trust_remote_code=True, device_map=\"auto\", model_kwargs={'load_in_8bit': True})\n",
        "  # For GPUs without bfloat16 support, like the T4 or V100, use torch_dtype=torch.float16 below\n",
        "  model = AutoModelForCausalLM.from_pretrained(model_name, device_map=\"auto\", torch_dtype=torch.float16, trust_remote_code=True)\n",
        "  prompt = PromptTemplate(input_variables=['context', 'question'], template=template)\n",
        "\n",
        "  hf_pipe = HuggingFacePipeline(pipeline=instruct_pipeline)\n",
        "  # Set verbose=True to see the full prompt:\n",
        "  return load_qa_chain(llm=hf_pipe, chain_type=\"stuff\", prompt=prompt, verbose=False)"
      ],
      "metadata": {
        "id": "Py2luYVt8tj4"
      },
      "execution_count": 8,
      "outputs": []
    },
    {
      "cell_type": "code",
      "source": [
        "qa_chain = build_qa_chain()"
      ],
      "metadata": {
        "id": "llYoOqrK80UR"
      },
      "execution_count": 9,
      "outputs": []
    },
    {
      "cell_type": "markdown",
      "source": [
        "#4/ Using the Chain for Simple Question Answering\n",
        "That's it! It's ready to go. Define a function to answer a question and pretty-print the answer, w"
      ],
      "metadata": {
        "id": "9OqUj9iF82VS"
      }
    },
    {
      "cell_type": "code",
      "source": [
        "def displayHTML(html):\n",
        "    \"\"\"Display HTML in Jupyter notebook.\"\"\"\n",
        "    from IPython.display import HTML\n",
        "    display(HTML(html))\n",
        "\n",
        "\n",
        "def answer_question(question):\n",
        "  similar_docs = get_similar_docs(question, similar_doc_count=3)\n",
        "  result = qa_chain({\"input_documents\": similar_docs, \"question\": question})\n",
        "  if result is None:\n",
        "    result_html = f'<h1>Couldnt found data from book</h1>'\n",
        "    return\n",
        "  # print(result)\n",
        "  result_html = f\"<p><blockquote style=\\\"font-size:24\\\">{question}</blockquote></p>\"\n",
        "  result_html += f\"<p><blockquote style=\\\"font-size:18px\\\">{result['output_text']}</blockquote></p>\"\n",
        "  result_html += \"<p><hr/></p>\"\n",
        "  for d in result[\"input_documents\"]:\n",
        "    source_id = d.metadata[\"source\"]\n",
        "    page = d.metadata['page']\n",
        "    result_html += f\"<p><blockquote>{d.page_content}<br/>(Source: <p>{source_id} Page: {page}</p>)</blockquote></p>\"\n",
        "  displayHTML(result_html)\n",
        "\n"
      ],
      "metadata": {
        "id": "C_sjcHhl822A"
      },
      "execution_count": 10,
      "outputs": []
    },
    {
      "cell_type": "code",
      "source": [
        "answer_question(\"If I query you about something which you don't know what will be your response?\")"
      ],
      "metadata": {
        "colab": {
          "base_uri": "https://localhost:8080/",
          "height": 461
        },
        "id": "V7rhT5_PPQki",
        "outputId": "4328be33-ec19-4411-ded4-8e2b178fa253"
      },
      "execution_count": 11,
      "outputs": [
        {
          "output_type": "display_data",
          "data": {
            "text/plain": [
              "<IPython.core.display.HTML object>"
            ],
            "text/html": [
              "<p><blockquote style=\"font-size:24\">If I query you about something which you don't know what will be your response?</blockquote></p><p><blockquote style=\"font-size:18px\">\n",
              "I will get back to you on this</blockquote></p><p><hr/></p><p><blockquote>CH CH CH CH CH-12. GCH-1 1 . CH-10 CH-9 \\ GH CH - 13 CH\n",
              "- 14 Aapter @ Discussion: Objectionable Questions A new hired researcher\n",
              "might be asking questions that may not be deemed ideal. T ake a look at\n",
              "following questions, suggest improvements in those that have any flaw . ¢\n",
              "What is your salary? ¢ Are you strong or weak supporter of ...? (ambiguous\n",
              "question) ¢ Do your children behave well at ...? ¢ What are most salient (or\n",
              "best) attributes in ... [brand]? ¢ V olvo is the safest car on road, right?\n",
              "(leading question) ¢ Do you want to do masters and PhD? (two questions in\n",
              "one) types of problem questions: Leading question: A question that is\n",
              "already pushing the respondent towards a certain response. For example,\n",
              "Volvo is the safest car , right? This question is pressurizing the respondent to\n",
              "say yes. Ambiguous question: That may reveal dif ferent answers. For\n",
              "example, are you a strong supporter of Pakistan's cricket team? Now , almost\n",
              "every Pakistani would say yes, but then ask them how many matches do\n",
              "they watch? One strong supporter might watch every match and another\n",
              "may watch only on special occasions such as during world cups. The word\n",
              "‘strong’ is ambiguous and open to interpretation in dif ferent ways by\n",
              "different people. A person saying he/she slept late last night, might have\n",
              "slept at any time between 9pm to 5am. Late has to be defined. Double-\n",
              "barreled question: It means asking two questions in a single sentence. The\n",
              "issue is that obviously the answer given by customer won't clarify which\n",
              "question they are responding to. For example, ‘Do you eat My Bur ger and\n",
              "find it of high quality?’ Now , if the response is 'yes', to which question is\n",
              "the respondent saying yes to, about eating at My Bur ger or about\n",
              "considering it of high quality? It would be better to convert such a double-\n",
              "barreled question into two separate questions. Open and close-ended\n",
              "questionnaires: There are various data collection methods and most of these\n",
              "include a questionnaire. There are one of two types of questions. One is\n",
              "open-ended meaning a question is asked and participant may respond by\n",
              "writing anything. It is good for exploratory research. Second, is a close-\n",
              "ended questionnaire that has choices and options given to respondents so it\n",
              "is easier for them to check their choice. Also, data collected is easier to be\n",
              "interpreted. Close ended questions may be dichotomous (have only two\n",
              "choices such as yes/no), MCQs (Multiple Choice Questions) that have three\n",
              "or more options as in some exams of universities. It may also be on a Likert\n",
              "scale having two extremes with various options as strongly agree to<br/>(Source: <p>/content/drive/MyDrive/Books/Basic_Marketing_2021.pdf Page: 457</p>)</blockquote></p>"
            ]
          },
          "metadata": {}
        }
      ]
    },
    {
      "cell_type": "code",
      "source": [
        "answer_question(\"I have exam tomorrow on Marketing. What should I do to pass the exam?\")"
      ],
      "metadata": {
        "colab": {
          "base_uri": "https://localhost:8080/",
          "height": 426
        },
        "id": "R1dXEw8VFNmB",
        "outputId": "0bd428bf-be64-4251-8598-0cb205f0bf2c"
      },
      "execution_count": 12,
      "outputs": [
        {
          "output_type": "display_data",
          "data": {
            "text/plain": [
              "<IPython.core.display.HTML object>"
            ],
            "text/html": [
              "<p><blockquote style=\"font-size:24\">I have exam tomorrow on Marketing. What should I do to pass the exam?</blockquote></p><p><blockquote style=\"font-size:18px\">\n",
              "You will need to prepare according to the ‘1 hour of outside preparation\n",
              "for every hour in class to achieve an average grade’.</blockquote></p><p><hr/></p><p><blockquote>otpend« (Each class may have an unannounced CA or Quiz, some\n",
              "CAs may be non-graded) Mid T erm 15% Project/Slides/Presentation 70% -\n",
              "Sessional work Final Exam + V ivas 30% Prior preparation, regular\n",
              "attendance, and professional participation in all classes is expected. Come\n",
              "to the class prepared to lead the class discussion for analytical\n",
              "interpretations, alternative strategies, and persuasive solutions. Kindly\n",
              "arrive on time and leave as scheduled. Quality of (almost) all\n",
              "communications, written and oral, may be evaluated. A general rule of\n",
              "thumb for preparing for a course is 1 hour of outside preparation for every\n",
              "hour in class to achieve an average grade e.g. ‘B-“. Alternately , to gain 1%\n",
              "marks you will have to study for about 1 hour hence it should give you a\n",
              "rough idea of how much time you should spend on this course to achieve\n",
              "the marks/grade you desire. Skills required in work/business are:\n",
              "Management/or ganizing, Emotional Quotient (EQ)/ social (listening),\n",
              "ability to learn (adaptability), problem solving, decision making, leadership,\n",
              "visionary , ethics, time management, stress management, initiative,\n",
              "intelligence (IQ). Irrespective of in which field a person enters above\n",
              "mentioned skills are nevertheless very important, hence participants should\n",
              "emphasize more on these rather than just subject knowledge. Late\n",
              "submissions/arrivals: Late submissions are eligible for zero marks; might be\n",
              "considered at 50% maximum. Participants arriving in class late by even a\n",
              "single minute maybe marked absent. Upon seventh late/absent (out of 30\n",
              "sessions) participants may be getting SA/F grade. W# Lecture content\n",
              "Assignments and Activities — Ch-1: Introduction to Marketing CA-1:\n",
              "Profile Ch-2: STP Asg#1: Personal Brand Dev . Ch-3: Consumer Behaviour\n",
              "CA-2: Scavenger Hunt Ch-4: Products and Brands Asg#2: Marketing\n",
              "updates & STP Ch-5: Product Innovation Asg#3: Interview Ch-6: Pricing\n",
              "Asg#4: Responsible Consumer Ch-7: Promotion Mini-Project on Brands\n",
              "MID-TERM oO | MOI INI AD] ON] BR }] Ww] N Ch-8: Distribution CA:\n",
              "Kahoot/Ads Ch-9: Environment Ch-10: Ethics and Haya Asg/Act:\n",
              "Marketers & Haya Ch-1 1: Research V iva Ch-12: Strategy & Globalization\n",
              "Ch-13: Power of Entrepreneurship Final Presentations<br/>(Source: <p>/content/drive/MyDrive/Books/Basic_Marketing_2021.pdf Page: 591</p>)</blockquote></p>"
            ]
          },
          "metadata": {}
        }
      ]
    },
    {
      "cell_type": "code",
      "source": [
        "answer_question(\"I know that marketing is to sell things to people through various means. Is it enough to pass the course?\")"
      ],
      "metadata": {
        "colab": {
          "base_uri": "https://localhost:8080/",
          "height": 461
        },
        "id": "8bm9LhB6pTdv",
        "outputId": "6a59b142-f18a-40e9-968e-0e8b206d6f40"
      },
      "execution_count": 13,
      "outputs": [
        {
          "output_type": "display_data",
          "data": {
            "text/plain": [
              "<IPython.core.display.HTML object>"
            ],
            "text/html": [
              "<p><blockquote style=\"font-size:24\">I know that marketing is to sell things to people through various means. Is it enough to pass the course?</blockquote></p><p><blockquote style=\"font-size:18px\">\n",
              "No</blockquote></p><p><hr/></p><p><blockquote>you know this you’ll become more alert consumer with rational\n",
              "decision making. This also reflects the purpose of education; to unlock the\n",
              "mind, to educate it and feed it with knowledge that is beneficial for\n",
              "humanity . Moreover , throughout this book you will learn about many\n",
              "companies and brands and perhaps might even discover a career .\n",
              "Irrespective of which field you belong to, whether you are a student of CS,\n",
              "IT, business, medicine, engineering, aviation, or a professor who is\n",
              "teaching, or a professional looking to expand his business, or even just an\n",
              "ordinary person, all of us are touched by marketing in one form or another .\n",
              "So, the knowledge of marketing is crucial as it guides us towards better\n",
              "business practices and also helps to become better and more informed\n",
              "consumer . What is Marketing? For a layman marketing is just ‘selling’ or\n",
              "‘advertising’ as it is usually the response of people when they are asked\n",
              "what do they think of ‘marketing’. As we proceed further , we'll learn that\n",
              "these two come under the domain of marketing; whereas marketing itself\n",
              "encompasses a lot more. As a matter of fact marketing starts long before a\n",
              "product even reaches the market. For example, a company has to analyse\n",
              "the needs and requirements of people, estimate how many people might be\n",
              "using similar products, predict the willingness of the number of people to\n",
              "purchase a particular type of product, estimate the price for a product which\n",
              "the buyers would be interested in paying and so on. These activities\n",
              "certainly go beyond simple advertising and selling. All of these activities\n",
              "are a compulsory part of the company planning because overlooking these\n",
              "details will likely get the company into trouble. Marketing Defined T ry\n",
              "asking ten experts or even twenty to define %zarketing’, 7 i chances are that\n",
              "you will get an equal number of dif ferent Marketing: Creating answers\n",
              "because a single universally accepted definition of —§ 94 capturing\n",
              "customer marketing has not yet been achieved. One of the shortest _Y/¥®:\n",
              "possible definitions of marketing would be “creating and — capturing\n",
              "customer value”. ) American Marketing Association (AMA) renewed\n",
              "marketing : ree: definition in 2013 as “Marketing is the activity , set of\n",
              "[Marketing] is the institutions and processes for creating, communicating,\n",
              "whole business seen delivering and exchanging of ferings that have value for\n",
              "from the point of view customers, clients, partners and society at lar ge”’.\n",
              "This lengthy definition contains a number of important concepts, one is\n",
              "‘value’ for customers. While remaining concepts as ‘creating (product),<br/>(Source: <p>/content/drive/MyDrive/Books/Basic_Marketing_2021.pdf Page: 26</p>)</blockquote></p>"
            ]
          },
          "metadata": {}
        }
      ]
    },
    {
      "cell_type": "code",
      "source": [
        "answer_question(\"What is Postmodernism?\")"
      ],
      "metadata": {
        "id": "_h8e-gnspbOG",
        "colab": {
          "base_uri": "https://localhost:8080/",
          "height": 948
        },
        "outputId": "f7494132-cf05-4f5c-a868-21fff2a8c991"
      },
      "execution_count": 14,
      "outputs": [
        {
          "output_type": "display_data",
          "data": {
            "text/plain": [
              "<IPython.core.display.HTML object>"
            ],
            "text/html": [
              "<p><blockquote style=\"font-size:24\">What is Postmodernism?</blockquote></p><p><blockquote style=\"font-size:18px\">\n",
              "The word ‘postmodernism’ is used to describe the change in the way people think and believe. It was coined to reflect the feeling that modernity had reached it’s limits. There is no agreed definition of what postmodernism is. It is not a single belief system but a broad movement that incorporates a variety of intellectual trends, ideas and concepts from many different areas of academia.</blockquote></p><p><hr/></p><p><blockquote>18 The Marketing Book\n",
              "The postmodern condition\n",
              "Paralleling the transformations that are taking\n",
              "place in the aesthetic and economic spheres, a\n",
              "postmodern turn in the nature of knowledge\n",
              "and thought has transpired. The so-called\n",
              "Enlightenment Project, which commenced in\n",
              "western Europe during the eighteenth century\n",
              "and comprised a systematic, rigorous, suppos-\n",
              "edly dispassionate search for objective\n",
              "knowledge, universal laws, meaningful general-\n",
              "izations and absolute truths, has run slowly but\n",
              "irreversibly into the sand. Its replacement, to\n",
              "some extent at least, is a low-key postmodern\n",
              "worldview, which emphasizes the boundedness\n",
              "of knowledge, the limits to generalization, the\n",
              "lack of universal laws, the prevalence of dis-\n",
              "order over order, irrationality rather than ration-\n",
              "ality, subjectivity instead of objectivity, and\n",
              "passionate participation as an alternative to\n",
              "dispassionate spectatorship. Thus, the ‘grand\n",
              "narratives’ of the project of modernity – prog-\n",
              "ress, freedom, profit, utopia, liberalism, truth,\n",
              "science etc. – have been superseded by an\n",
              "awareness of the lack of progress, the absence of\n",
              "freedom, the price of profit, the dystopia that is\n",
              "utopia, the illiberalism of liberalism, the fiction\n",
              "that is truth and the artistry of science.\n",
              "Postmodern apocalypse\n",
              "Another, and in certain respects the most\n",
              "straightforward, way of grasping the post-\n",
              "modern is to eschew the idea that it is an ‘it’. Its\n",
              "‘itness’, after all, assumes a referential model of\n",
              "language (i.e. that there are ‘things’ out there in\n",
              "the world that the word ‘postmodern’ refers to),\n",
              "which is something card-carrying postmodern-\n",
              "ists are loath to concede (assuming, of course,\n",
              "that there are things out there called post-\n",
              "modernists). Postmodernism, rather, is better\n",
              "regarded as an attitude, a feeling, a mood, a\n",
              "sensibility, an orientation, a way of looking at\n",
              "the world – a way of looking askance at the\n",
              "world. A pose, if you prefer. Irony, parody,\n",
              "playfulness, irreverence, insolence, couldn’t-\n",
              "care-less cynicism and absolute unwillingnessto accept the accepted are postmodernism’s\n",
              "distinguishing features. Hence, the progressive,\n",
              "optimistic, forward-looking, ever-onward-ever-\n",
              "upward worldview of the modern era has been\n",
              "replaced by a pessimistic, almost apocalyptic,\n",
              "sense of apprehension, anxiety, apathy and\n",
              "anomie. The postmodern, then, is suffused with\n",
              "an air of exhaustion, ending, crisis and (calam-\n",
              "itous) change. Its characteristic attitude is a\n",
              "‘mixture of worldweariness and cleverness, an\n",
              "attempt to make you think that I’m half-\n",
              "kidding, though you’re not quite sure about\n",
              "what’ (Apple, 1984, p. 39).\n",
              "Money back guarantee\n",
              "Now, it doesn’t take a great deal of cleverness,\n",
              "let alone world-weariness, to recognize that\n",
              "many of these purported postmodern traits are\n",
              "discernible in today’s marketing and consumer\n",
              "environment. Consider shopping centres. The\n",
              "archetypal Arndale developments of the 1960s\n",
              "– all reinforced concrete, flat roofs, straight\n",
              "lines, low ceilings and oozing mastic – have\n",
              "been eclipsed by postmodern shopping malls,\n",
              "which are bright, airy, eclectic, ornamented,\n",
              "extravagantly themed, unashamedly ersatz and\n",
              "invariably welcoming. Instead of a glowering,\n",
              "intimidating, brutalist bulk, a blot on the\n",
              "cityscape that seemed to say, ‘enter if you dare,\n",
              "go about your business and get out as quickly\n",
              "as possible’, postmodern centres suggest that\n",
              "shopping is a pleasure not a chore. They say, in\n",
              "effect, ‘enjoy yourself, call again, bring the\n",
              "family, fulfil your fantasies, relive your child-\n",
              "hood, imagine yourself in another world or\n",
              "another part of the world, or both’ (Goss, 1993;\n",
              "Maclaran and Brown, 2001; Shields, 1992).\n",
              "In advertising, likewise, the straightfor-\n",
              "ward marketing pitch of tradition – ‘this product\n",
              "is good, buy it’ – is almost unheard of these days\n",
              "(except when it’s used ironically). Contem-\n",
              "porary commercials are invariably sly, subtle,\n",
              "allusive, indirect, clever, parodic, insouciant,\n",
              "self-referential (ads about ads), cross-referential<br/>(Source: <p>/content/drive/MyDrive/Books/Marketing_Book.pdf Page: 56</p>)</blockquote></p><p><blockquote>CHAPTER 2\n",
              "Postmodern marketing:\n",
              "everything must go!\n",
              "STEPHEN BROWN\n",
              "Grand opening offer\n",
              "What on earth does ‘postmodern’ mean? A\n",
              "very good question, and one that is not easily\n",
              "answered, because the word, many believe, is\n",
              "as meaningless as it is ubiquitous. It is a word\n",
              "that has been applied to everything from\n",
              "making love (over the Internet, by means of\n",
              "teledildonic body suits) to making war (as in\n",
              "the Gulf or Kosovo, where virtual attacks are\n",
              "mounted and western casualties avoided at all\n",
              "costs). What’s worse, the word has attracted the\n",
              "anoraks of this world, like legendary moths to a\n",
              "proverbial flame, all determined to define the\n",
              "indefinable.\n",
              "The inevitable upshot of this mission to\n",
              "explain the postmodern is a massive, rapidly\n",
              "growing and almost unreadable mound of\n",
              "books, articles and anthologies. The shelves of\n",
              "our libraries and bookshops literally groan\n",
              "under the weight of texts with ‘postmodern’\n",
              "in the title; the A to Z of academic disciplines\n",
              "– from accountancy to zoology – has been\n",
              "infiltrated by postmodern fanatics, and many\n",
              "academic careers have been made, or unmade,\n",
              "on the back of this infuriating intellectual\n",
              "beast (Appignanesi and Garratt, 1995; Best\n",
              "and Kellner, 2001; Cal´ as and Smircich, 1997;\n",
              "Crews, 2001; Ward, 1997).Indeed, so pervasive is the discourse on\n",
              "the postmodern (and so pervasive is the\n",
              "discourse on the discourse . . .), that post-\n",
              "modernism has become one of the dominant\n",
              "organizing concepts – if it is a concept – across\n",
              "the social and human sciences. Granted, com-\n",
              "paratively few people in each academic dis-\n",
              "cipline espouse a postmodernist position,\n",
              "albeit many more are involved in the wider\n",
              "pro/con debate. Some subject areas, moreover,\n",
              "are further down the postmodern road than\n",
              "others (in org. studies, for instance, it is fairly\n",
              "well established, whereas in marketing and\n",
              "consumer research it remains the preserve of\n",
              "the fighting few). Be that as it may, the very\n",
              "omnipresence of postmodernism is deeply\n",
              "ironic, since it is opposed to universal modes\n",
              "of thought and sets great store by difference,\n",
              "diversity, singularity and so on. For post-\n",
              "modernists, however, this ubiquity of the\n",
              "unique is not a major problem, because con-\n",
              "tradiction, inconsistency and paradox are\n",
              "themselves characteristic features of the post-\n",
              "modern. They are to be celebrated not con-\n",
              "demned, flaunted not faulted, encouraged not\n",
              "excoriated.\n",
              "The realirony of the postmodern is much,\n",
              "much closer to home, insofar as many sociolo-\n",
              "gists, anthropologists, literary theorists and\n",
              "cultural studies specialists consider marketing<br/>(Source: <p>/content/drive/MyDrive/Books/Marketing_Book.pdf Page: 54</p>)</blockquote></p>"
            ]
          },
          "metadata": {}
        }
      ]
    },
    {
      "cell_type": "code",
      "source": [
        "answer_question(\"What is marketing?\")"
      ],
      "metadata": {
        "colab": {
          "base_uri": "https://localhost:8080/",
          "height": 483
        },
        "id": "kE3TrljMVt8G",
        "outputId": "35104bf9-faa3-40de-91cb-ac548fb6fdd4"
      },
      "execution_count": 16,
      "outputs": [
        {
          "output_type": "display_data",
          "data": {
            "text/plain": [
              "<IPython.core.display.HTML object>"
            ],
            "text/html": [
              "<p><blockquote style=\"font-size:24\">What is marketing?</blockquote></p><p><blockquote style=\"font-size:18px\">\n",
              "Marketing is an activity, set of institutions and processes for creating,\n",
              "communicating, whole business seen delivering and exchanging of\n",
              "ferings that have value for customers, clients, partners and society at large</blockquote></p><p><hr/></p><p><blockquote>you know this you’ll become more alert consumer with rational\n",
              "decision making. This also reflects the purpose of education; to unlock the\n",
              "mind, to educate it and feed it with knowledge that is beneficial for\n",
              "humanity . Moreover , throughout this book you will learn about many\n",
              "companies and brands and perhaps might even discover a career .\n",
              "Irrespective of which field you belong to, whether you are a student of CS,\n",
              "IT, business, medicine, engineering, aviation, or a professor who is\n",
              "teaching, or a professional looking to expand his business, or even just an\n",
              "ordinary person, all of us are touched by marketing in one form or another .\n",
              "So, the knowledge of marketing is crucial as it guides us towards better\n",
              "business practices and also helps to become better and more informed\n",
              "consumer . What is Marketing? For a layman marketing is just ‘selling’ or\n",
              "‘advertising’ as it is usually the response of people when they are asked\n",
              "what do they think of ‘marketing’. As we proceed further , we'll learn that\n",
              "these two come under the domain of marketing; whereas marketing itself\n",
              "encompasses a lot more. As a matter of fact marketing starts long before a\n",
              "product even reaches the market. For example, a company has to analyse\n",
              "the needs and requirements of people, estimate how many people might be\n",
              "using similar products, predict the willingness of the number of people to\n",
              "purchase a particular type of product, estimate the price for a product which\n",
              "the buyers would be interested in paying and so on. These activities\n",
              "certainly go beyond simple advertising and selling. All of these activities\n",
              "are a compulsory part of the company planning because overlooking these\n",
              "details will likely get the company into trouble. Marketing Defined T ry\n",
              "asking ten experts or even twenty to define %zarketing’, 7 i chances are that\n",
              "you will get an equal number of dif ferent Marketing: Creating answers\n",
              "because a single universally accepted definition of —§ 94 capturing\n",
              "customer marketing has not yet been achieved. One of the shortest _Y/¥®:\n",
              "possible definitions of marketing would be “creating and — capturing\n",
              "customer value”. ) American Marketing Association (AMA) renewed\n",
              "marketing : ree: definition in 2013 as “Marketing is the activity , set of\n",
              "[Marketing] is the institutions and processes for creating, communicating,\n",
              "whole business seen delivering and exchanging of ferings that have value for\n",
              "from the point of view customers, clients, partners and society at lar ge”’.\n",
              "This lengthy definition contains a number of important concepts, one is\n",
              "‘value’ for customers. While remaining concepts as ‘creating (product),<br/>(Source: <p>/content/drive/MyDrive/Books/Basic_Marketing_2021.pdf Page: 26</p>)</blockquote></p>"
            ]
          },
          "metadata": {}
        }
      ]
    },
    {
      "cell_type": "code",
      "source": [
        "answer_question(\"Explain in detail what is marketing? Also add some examples\")"
      ],
      "metadata": {
        "colab": {
          "base_uri": "https://localhost:8080/",
          "height": 506
        },
        "id": "fJa-BB1dZmQg",
        "outputId": "70f62eca-6867-43e2-eada-66851a6b6ed8"
      },
      "execution_count": 18,
      "outputs": [
        {
          "output_type": "display_data",
          "data": {
            "text/plain": [
              "<IPython.core.display.HTML object>"
            ],
            "text/html": [
              "<p><blockquote style=\"font-size:24\">Explain in detail what is marketing? Also add some examples</blockquote></p><p><blockquote style=\"font-size:18px\">\n",
              "Marketing is the activity, set of marketing is the institutions and processes for creating, communicating, whole business seen delivering and exchanging of ferings that have value for from the point of view customers, clients, partners and society at lar ge. \n",
              "\n",
              "This definition covers many aspects of marketing, especially capturing customer value.</blockquote></p><p><hr/></p><p><blockquote>you know this you’ll become more alert consumer with rational\n",
              "decision making. This also reflects the purpose of education; to unlock the\n",
              "mind, to educate it and feed it with knowledge that is beneficial for\n",
              "humanity . Moreover , throughout this book you will learn about many\n",
              "companies and brands and perhaps might even discover a career .\n",
              "Irrespective of which field you belong to, whether you are a student of CS,\n",
              "IT, business, medicine, engineering, aviation, or a professor who is\n",
              "teaching, or a professional looking to expand his business, or even just an\n",
              "ordinary person, all of us are touched by marketing in one form or another .\n",
              "So, the knowledge of marketing is crucial as it guides us towards better\n",
              "business practices and also helps to become better and more informed\n",
              "consumer . What is Marketing? For a layman marketing is just ‘selling’ or\n",
              "‘advertising’ as it is usually the response of people when they are asked\n",
              "what do they think of ‘marketing’. As we proceed further , we'll learn that\n",
              "these two come under the domain of marketing; whereas marketing itself\n",
              "encompasses a lot more. As a matter of fact marketing starts long before a\n",
              "product even reaches the market. For example, a company has to analyse\n",
              "the needs and requirements of people, estimate how many people might be\n",
              "using similar products, predict the willingness of the number of people to\n",
              "purchase a particular type of product, estimate the price for a product which\n",
              "the buyers would be interested in paying and so on. These activities\n",
              "certainly go beyond simple advertising and selling. All of these activities\n",
              "are a compulsory part of the company planning because overlooking these\n",
              "details will likely get the company into trouble. Marketing Defined T ry\n",
              "asking ten experts or even twenty to define %zarketing’, 7 i chances are that\n",
              "you will get an equal number of dif ferent Marketing: Creating answers\n",
              "because a single universally accepted definition of —§ 94 capturing\n",
              "customer marketing has not yet been achieved. One of the shortest _Y/¥®:\n",
              "possible definitions of marketing would be “creating and — capturing\n",
              "customer value”. ) American Marketing Association (AMA) renewed\n",
              "marketing : ree: definition in 2013 as “Marketing is the activity , set of\n",
              "[Marketing] is the institutions and processes for creating, communicating,\n",
              "whole business seen delivering and exchanging of ferings that have value for\n",
              "from the point of view customers, clients, partners and society at lar ge”’.\n",
              "This lengthy definition contains a number of important concepts, one is\n",
              "‘value’ for customers. While remaining concepts as ‘creating (product),<br/>(Source: <p>/content/drive/MyDrive/Books/Basic_Marketing_2021.pdf Page: 26</p>)</blockquote></p>"
            ]
          },
          "metadata": {}
        }
      ]
    },
    {
      "cell_type": "code",
      "source": [],
      "metadata": {
        "id": "bk1K8kV7ZxsA"
      },
      "execution_count": null,
      "outputs": []
    }
  ]
}